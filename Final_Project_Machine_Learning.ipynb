{
 "cells": [
  {
   "cell_type": "markdown",
   "metadata": {},
   "source": [
    "<H1>HS608 Final Project - Machine Learning</H1><br>\n",
    "<b>Author: Jessica Stothers</b><br>\n",
    "<b>Date: 12/13/19</b>"
   ]
  },
  {
   "cell_type": "markdown",
   "metadata": {},
   "source": [
    "<b>Data Set:</b> NB: variable age_level has been added to original dataset<br>\n",
    "Abstract: From National Institute of Diabetes and Digestive and Kidney Diseases; Includes cost data\n",
    "(donated by Peter Turney)<br><br>\n",
    "<b>Attribute Information:</b>\n",
    " - preg: Number of times pregnant<br>\n",
    " - plas: Plasma glucose concentration a 2 hours in an oral glucose tolerance test<br>\n",
    " - pres: Diastolic blood pressure (mm Hg)<br>\n",
    " - skin: Triceps skin fold thickness (mm)<br>\n",
    " - insu: 2-Hour serum insulin (mu U/ml)<br>\n",
    " - mass: Body mass index (weight in kg/(height in m)^2)<br>\n",
    " - pedi: Diabetes pedigree function<br>\n",
    " - age: Age (years)<br>\n",
    " - class: Diabetes class variable (0 or 1)<br>\n",
    " - age_level: Age level (years)"
   ]
  },
  {
   "cell_type": "markdown",
   "metadata": {},
   "source": [
    "<H2>Import Libraries and Load Data</H2>"
   ]
  },
  {
   "cell_type": "code",
   "execution_count": 1,
   "metadata": {},
   "outputs": [],
   "source": [
    "import numpy as np\n",
    "import pandas as pd      \n",
    "import matplotlib as mpl\n",
    "import matplotlib.pyplot as plt\n",
    "import seaborn as sns   \n",
    "from pandas.api.types import CategoricalDtype # enables specifying categorical agetype below\n",
    "\n",
    "from sklearn.preprocessing import Imputer, MinMaxScaler\n",
    "from sklearn.svm import SVC\n",
    "from sklearn.metrics import confusion_matrix, accuracy_score, classification_report, roc_curve, auc\n",
    "from sklearn.model_selection import train_test_split, GridSearchCV, cross_val_score"
   ]
  },
  {
   "cell_type": "code",
   "execution_count": 2,
   "metadata": {},
   "outputs": [],
   "source": [
    "df = pd.read_csv('diabetes_explore2.csv')"
   ]
  },
  {
   "cell_type": "code",
   "execution_count": 51,
   "metadata": {},
   "outputs": [
    {
     "data": {
      "text/html": [
       "<div>\n",
       "<style scoped>\n",
       "    .dataframe tbody tr th:only-of-type {\n",
       "        vertical-align: middle;\n",
       "    }\n",
       "\n",
       "    .dataframe tbody tr th {\n",
       "        vertical-align: top;\n",
       "    }\n",
       "\n",
       "    .dataframe thead th {\n",
       "        text-align: right;\n",
       "    }\n",
       "</style>\n",
       "<table border=\"1\" class=\"dataframe\">\n",
       "  <thead>\n",
       "    <tr style=\"text-align: right;\">\n",
       "      <th></th>\n",
       "      <th>preg</th>\n",
       "      <th>plas</th>\n",
       "      <th>pres</th>\n",
       "      <th>skin</th>\n",
       "      <th>insu</th>\n",
       "      <th>mass</th>\n",
       "      <th>pedi</th>\n",
       "      <th>age</th>\n",
       "      <th>class</th>\n",
       "    </tr>\n",
       "  </thead>\n",
       "  <tbody>\n",
       "    <tr>\n",
       "      <th>count</th>\n",
       "      <td>768.000000</td>\n",
       "      <td>768.000000</td>\n",
       "      <td>768.000000</td>\n",
       "      <td>768.000000</td>\n",
       "      <td>768.000000</td>\n",
       "      <td>768.000000</td>\n",
       "      <td>768.000000</td>\n",
       "      <td>768.000000</td>\n",
       "      <td>768.000000</td>\n",
       "    </tr>\n",
       "    <tr>\n",
       "      <th>mean</th>\n",
       "      <td>3.845052</td>\n",
       "      <td>120.894531</td>\n",
       "      <td>69.105469</td>\n",
       "      <td>20.536458</td>\n",
       "      <td>79.799479</td>\n",
       "      <td>31.992578</td>\n",
       "      <td>0.471876</td>\n",
       "      <td>33.240885</td>\n",
       "      <td>0.348958</td>\n",
       "    </tr>\n",
       "    <tr>\n",
       "      <th>std</th>\n",
       "      <td>3.369578</td>\n",
       "      <td>31.972618</td>\n",
       "      <td>19.355807</td>\n",
       "      <td>15.952218</td>\n",
       "      <td>115.244002</td>\n",
       "      <td>7.884160</td>\n",
       "      <td>0.331329</td>\n",
       "      <td>11.760232</td>\n",
       "      <td>0.476951</td>\n",
       "    </tr>\n",
       "    <tr>\n",
       "      <th>min</th>\n",
       "      <td>0.000000</td>\n",
       "      <td>0.000000</td>\n",
       "      <td>0.000000</td>\n",
       "      <td>0.000000</td>\n",
       "      <td>0.000000</td>\n",
       "      <td>0.000000</td>\n",
       "      <td>0.078000</td>\n",
       "      <td>21.000000</td>\n",
       "      <td>0.000000</td>\n",
       "    </tr>\n",
       "    <tr>\n",
       "      <th>25%</th>\n",
       "      <td>1.000000</td>\n",
       "      <td>99.000000</td>\n",
       "      <td>62.000000</td>\n",
       "      <td>0.000000</td>\n",
       "      <td>0.000000</td>\n",
       "      <td>27.300000</td>\n",
       "      <td>0.243750</td>\n",
       "      <td>24.000000</td>\n",
       "      <td>0.000000</td>\n",
       "    </tr>\n",
       "    <tr>\n",
       "      <th>50%</th>\n",
       "      <td>3.000000</td>\n",
       "      <td>117.000000</td>\n",
       "      <td>72.000000</td>\n",
       "      <td>23.000000</td>\n",
       "      <td>30.500000</td>\n",
       "      <td>32.000000</td>\n",
       "      <td>0.372500</td>\n",
       "      <td>29.000000</td>\n",
       "      <td>0.000000</td>\n",
       "    </tr>\n",
       "    <tr>\n",
       "      <th>75%</th>\n",
       "      <td>6.000000</td>\n",
       "      <td>140.250000</td>\n",
       "      <td>80.000000</td>\n",
       "      <td>32.000000</td>\n",
       "      <td>127.250000</td>\n",
       "      <td>36.600000</td>\n",
       "      <td>0.626250</td>\n",
       "      <td>41.000000</td>\n",
       "      <td>1.000000</td>\n",
       "    </tr>\n",
       "    <tr>\n",
       "      <th>max</th>\n",
       "      <td>17.000000</td>\n",
       "      <td>199.000000</td>\n",
       "      <td>122.000000</td>\n",
       "      <td>99.000000</td>\n",
       "      <td>846.000000</td>\n",
       "      <td>67.100000</td>\n",
       "      <td>2.420000</td>\n",
       "      <td>81.000000</td>\n",
       "      <td>1.000000</td>\n",
       "    </tr>\n",
       "  </tbody>\n",
       "</table>\n",
       "</div>"
      ],
      "text/plain": [
       "             preg        plas        pres        skin        insu        mass  \\\n",
       "count  768.000000  768.000000  768.000000  768.000000  768.000000  768.000000   \n",
       "mean     3.845052  120.894531   69.105469   20.536458   79.799479   31.992578   \n",
       "std      3.369578   31.972618   19.355807   15.952218  115.244002    7.884160   \n",
       "min      0.000000    0.000000    0.000000    0.000000    0.000000    0.000000   \n",
       "25%      1.000000   99.000000   62.000000    0.000000    0.000000   27.300000   \n",
       "50%      3.000000  117.000000   72.000000   23.000000   30.500000   32.000000   \n",
       "75%      6.000000  140.250000   80.000000   32.000000  127.250000   36.600000   \n",
       "max     17.000000  199.000000  122.000000   99.000000  846.000000   67.100000   \n",
       "\n",
       "             pedi         age       class  \n",
       "count  768.000000  768.000000  768.000000  \n",
       "mean     0.471876   33.240885    0.348958  \n",
       "std      0.331329   11.760232    0.476951  \n",
       "min      0.078000   21.000000    0.000000  \n",
       "25%      0.243750   24.000000    0.000000  \n",
       "50%      0.372500   29.000000    0.000000  \n",
       "75%      0.626250   41.000000    1.000000  \n",
       "max      2.420000   81.000000    1.000000  "
      ]
     },
     "execution_count": 51,
     "metadata": {},
     "output_type": "execute_result"
    }
   ],
   "source": [
    "df.describe()"
   ]
  },
  {
   "cell_type": "code",
   "execution_count": 52,
   "metadata": {},
   "outputs": [
    {
     "name": "stdout",
     "output_type": "stream",
     "text": [
      "<class 'pandas.core.frame.DataFrame'>\n",
      "RangeIndex: 768 entries, 0 to 767\n",
      "Data columns (total 10 columns):\n",
      "preg         768 non-null int64\n",
      "plas         768 non-null int64\n",
      "pres         768 non-null int64\n",
      "skin         768 non-null int64\n",
      "insu         768 non-null int64\n",
      "mass         768 non-null float64\n",
      "pedi         768 non-null float64\n",
      "age          768 non-null int64\n",
      "class        768 non-null int64\n",
      "age_level    768 non-null object\n",
      "dtypes: float64(2), int64(7), object(1)\n",
      "memory usage: 60.1+ KB\n"
     ]
    }
   ],
   "source": [
    "df.info()"
   ]
  },
  {
   "cell_type": "markdown",
   "metadata": {},
   "source": [
    "<H2>Preprocess Data</H2>"
   ]
  },
  {
   "cell_type": "markdown",
   "metadata": {},
   "source": [
    "<b>Replace impossible values with np.NaN</b><br>"
   ]
  },
  {
   "cell_type": "code",
   "execution_count": 3,
   "metadata": {},
   "outputs": [],
   "source": [
    "df2 = df.copy(deep=True)"
   ]
  },
  {
   "cell_type": "code",
   "execution_count": 4,
   "metadata": {},
   "outputs": [],
   "source": [
    "df2['plas'].replace(0, np.nan, inplace=True) \n",
    "df2['pres'].replace(0, np.nan, inplace=True)\n",
    "df2['skin'].replace(0, np.nan, inplace=True)\n",
    "df2['insu'].replace(0, np.nan, inplace=True)\n",
    "df2['mass'].replace(0, np.nan, inplace=True)"
   ]
  },
  {
   "cell_type": "markdown",
   "metadata": {},
   "source": [
    "<b>Change ordinal categorical age_level variable to ordinal integers for machine learning</b>"
   ]
  },
  {
   "cell_type": "code",
   "execution_count": 5,
   "metadata": {},
   "outputs": [],
   "source": [
    "# change age_level to ordinal integers for machine learning\n",
    "# alternative is to one-hot encode, but since age_level is ordinal, chose to encode ordinally\n",
    "df2['age_level'].replace('20s', 0, inplace=True) \n",
    "df2['age_level'].replace('30s', 1, inplace=True)\n",
    "df2['age_level'].replace('40s', 2, inplace=True)\n",
    "df2['age_level'].replace('50s', 3, inplace=True)\n",
    "df2['age_level'].replace('60+', 4, inplace=True)"
   ]
  },
  {
   "cell_type": "markdown",
   "metadata": {},
   "source": [
    "<b>Make all variables floats</b>"
   ]
  },
  {
   "cell_type": "code",
   "execution_count": 6,
   "metadata": {},
   "outputs": [
    {
     "name": "stdout",
     "output_type": "stream",
     "text": [
      "<class 'pandas.core.frame.DataFrame'>\n",
      "RangeIndex: 768 entries, 0 to 767\n",
      "Data columns (total 10 columns):\n",
      "preg         768 non-null float64\n",
      "plas         763 non-null float64\n",
      "pres         733 non-null float64\n",
      "skin         541 non-null float64\n",
      "insu         394 non-null float64\n",
      "mass         757 non-null float64\n",
      "pedi         768 non-null float64\n",
      "age          768 non-null float64\n",
      "class        768 non-null float64\n",
      "age_level    768 non-null float64\n",
      "dtypes: float64(10)\n",
      "memory usage: 60.1 KB\n"
     ]
    }
   ],
   "source": [
    "# change preg, age, class and age_level to floats so all variables are same data type for machine learning\n",
    "df2 = df2.astype(float)\n",
    "df2.info()"
   ]
  },
  {
   "cell_type": "markdown",
   "metadata": {},
   "source": [
    "<b>Examine data</b>"
   ]
  },
  {
   "cell_type": "code",
   "execution_count": 57,
   "metadata": {},
   "outputs": [
    {
     "data": {
      "text/plain": [
       "preg          0.00\n",
       "plas          0.65\n",
       "pres          4.56\n",
       "skin         29.56\n",
       "insu         48.70\n",
       "mass          1.43\n",
       "pedi          0.00\n",
       "age           0.00\n",
       "class         0.00\n",
       "age_level     0.00\n",
       "dtype: float64"
      ]
     },
     "execution_count": 57,
     "metadata": {},
     "output_type": "execute_result"
    }
   ],
   "source": [
    "# Percent of null values in each variable\n",
    "(df2.isnull().sum() / 768 * 100).round(2) # sum of nulls, divided by number of rows, x 100, rounded"
   ]
  },
  {
   "cell_type": "code",
   "execution_count": 58,
   "metadata": {},
   "outputs": [
    {
     "data": {
      "text/html": [
       "<div>\n",
       "<style scoped>\n",
       "    .dataframe tbody tr th:only-of-type {\n",
       "        vertical-align: middle;\n",
       "    }\n",
       "\n",
       "    .dataframe tbody tr th {\n",
       "        vertical-align: top;\n",
       "    }\n",
       "\n",
       "    .dataframe thead th {\n",
       "        text-align: right;\n",
       "    }\n",
       "</style>\n",
       "<table border=\"1\" class=\"dataframe\">\n",
       "  <thead>\n",
       "    <tr style=\"text-align: right;\">\n",
       "      <th></th>\n",
       "      <th>preg</th>\n",
       "      <th>plas</th>\n",
       "      <th>pres</th>\n",
       "      <th>skin</th>\n",
       "      <th>insu</th>\n",
       "      <th>mass</th>\n",
       "      <th>pedi</th>\n",
       "      <th>age</th>\n",
       "      <th>class</th>\n",
       "      <th>age_level</th>\n",
       "    </tr>\n",
       "  </thead>\n",
       "  <tbody>\n",
       "    <tr>\n",
       "      <th>preg</th>\n",
       "      <td>1.000000</td>\n",
       "      <td>0.128135</td>\n",
       "      <td>0.214178</td>\n",
       "      <td>0.100239</td>\n",
       "      <td>0.082171</td>\n",
       "      <td>0.021719</td>\n",
       "      <td>-0.033523</td>\n",
       "      <td>0.544341</td>\n",
       "      <td>0.221898</td>\n",
       "      <td>0.524903</td>\n",
       "    </tr>\n",
       "    <tr>\n",
       "      <th>plas</th>\n",
       "      <td>0.128135</td>\n",
       "      <td>1.000000</td>\n",
       "      <td>0.223192</td>\n",
       "      <td>0.228043</td>\n",
       "      <td>0.581186</td>\n",
       "      <td>0.232771</td>\n",
       "      <td>0.137246</td>\n",
       "      <td>0.267136</td>\n",
       "      <td>0.494650</td>\n",
       "      <td>0.258513</td>\n",
       "    </tr>\n",
       "    <tr>\n",
       "      <th>pres</th>\n",
       "      <td>0.214178</td>\n",
       "      <td>0.223192</td>\n",
       "      <td>1.000000</td>\n",
       "      <td>0.226839</td>\n",
       "      <td>0.098272</td>\n",
       "      <td>0.289230</td>\n",
       "      <td>-0.002805</td>\n",
       "      <td>0.330107</td>\n",
       "      <td>0.170589</td>\n",
       "      <td>0.310686</td>\n",
       "    </tr>\n",
       "    <tr>\n",
       "      <th>skin</th>\n",
       "      <td>0.100239</td>\n",
       "      <td>0.228043</td>\n",
       "      <td>0.226839</td>\n",
       "      <td>1.000000</td>\n",
       "      <td>0.184888</td>\n",
       "      <td>0.648214</td>\n",
       "      <td>0.115016</td>\n",
       "      <td>0.166816</td>\n",
       "      <td>0.259491</td>\n",
       "      <td>0.141390</td>\n",
       "    </tr>\n",
       "    <tr>\n",
       "      <th>insu</th>\n",
       "      <td>0.082171</td>\n",
       "      <td>0.581186</td>\n",
       "      <td>0.098272</td>\n",
       "      <td>0.184888</td>\n",
       "      <td>1.000000</td>\n",
       "      <td>0.228050</td>\n",
       "      <td>0.130395</td>\n",
       "      <td>0.220261</td>\n",
       "      <td>0.303454</td>\n",
       "      <td>0.224240</td>\n",
       "    </tr>\n",
       "    <tr>\n",
       "      <th>mass</th>\n",
       "      <td>0.021719</td>\n",
       "      <td>0.232771</td>\n",
       "      <td>0.289230</td>\n",
       "      <td>0.648214</td>\n",
       "      <td>0.228050</td>\n",
       "      <td>1.000000</td>\n",
       "      <td>0.155382</td>\n",
       "      <td>0.025841</td>\n",
       "      <td>0.313680</td>\n",
       "      <td>0.011346</td>\n",
       "    </tr>\n",
       "    <tr>\n",
       "      <th>pedi</th>\n",
       "      <td>-0.033523</td>\n",
       "      <td>0.137246</td>\n",
       "      <td>-0.002805</td>\n",
       "      <td>0.115016</td>\n",
       "      <td>0.130395</td>\n",
       "      <td>0.155382</td>\n",
       "      <td>1.000000</td>\n",
       "      <td>0.033561</td>\n",
       "      <td>0.173844</td>\n",
       "      <td>0.029788</td>\n",
       "    </tr>\n",
       "    <tr>\n",
       "      <th>age</th>\n",
       "      <td>0.544341</td>\n",
       "      <td>0.267136</td>\n",
       "      <td>0.330107</td>\n",
       "      <td>0.166816</td>\n",
       "      <td>0.220261</td>\n",
       "      <td>0.025841</td>\n",
       "      <td>0.033561</td>\n",
       "      <td>1.000000</td>\n",
       "      <td>0.238356</td>\n",
       "      <td>0.971425</td>\n",
       "    </tr>\n",
       "    <tr>\n",
       "      <th>class</th>\n",
       "      <td>0.221898</td>\n",
       "      <td>0.494650</td>\n",
       "      <td>0.170589</td>\n",
       "      <td>0.259491</td>\n",
       "      <td>0.303454</td>\n",
       "      <td>0.313680</td>\n",
       "      <td>0.173844</td>\n",
       "      <td>0.238356</td>\n",
       "      <td>1.000000</td>\n",
       "      <td>0.235942</td>\n",
       "    </tr>\n",
       "    <tr>\n",
       "      <th>age_level</th>\n",
       "      <td>0.524903</td>\n",
       "      <td>0.258513</td>\n",
       "      <td>0.310686</td>\n",
       "      <td>0.141390</td>\n",
       "      <td>0.224240</td>\n",
       "      <td>0.011346</td>\n",
       "      <td>0.029788</td>\n",
       "      <td>0.971425</td>\n",
       "      <td>0.235942</td>\n",
       "      <td>1.000000</td>\n",
       "    </tr>\n",
       "  </tbody>\n",
       "</table>\n",
       "</div>"
      ],
      "text/plain": [
       "               preg      plas      pres      skin      insu      mass  \\\n",
       "preg       1.000000  0.128135  0.214178  0.100239  0.082171  0.021719   \n",
       "plas       0.128135  1.000000  0.223192  0.228043  0.581186  0.232771   \n",
       "pres       0.214178  0.223192  1.000000  0.226839  0.098272  0.289230   \n",
       "skin       0.100239  0.228043  0.226839  1.000000  0.184888  0.648214   \n",
       "insu       0.082171  0.581186  0.098272  0.184888  1.000000  0.228050   \n",
       "mass       0.021719  0.232771  0.289230  0.648214  0.228050  1.000000   \n",
       "pedi      -0.033523  0.137246 -0.002805  0.115016  0.130395  0.155382   \n",
       "age        0.544341  0.267136  0.330107  0.166816  0.220261  0.025841   \n",
       "class      0.221898  0.494650  0.170589  0.259491  0.303454  0.313680   \n",
       "age_level  0.524903  0.258513  0.310686  0.141390  0.224240  0.011346   \n",
       "\n",
       "               pedi       age     class  age_level  \n",
       "preg      -0.033523  0.544341  0.221898   0.524903  \n",
       "plas       0.137246  0.267136  0.494650   0.258513  \n",
       "pres      -0.002805  0.330107  0.170589   0.310686  \n",
       "skin       0.115016  0.166816  0.259491   0.141390  \n",
       "insu       0.130395  0.220261  0.303454   0.224240  \n",
       "mass       0.155382  0.025841  0.313680   0.011346  \n",
       "pedi       1.000000  0.033561  0.173844   0.029788  \n",
       "age        0.033561  1.000000  0.238356   0.971425  \n",
       "class      0.173844  0.238356  1.000000   0.235942  \n",
       "age_level  0.029788  0.971425  0.235942   1.000000  "
      ]
     },
     "execution_count": 58,
     "metadata": {},
     "output_type": "execute_result"
    }
   ],
   "source": [
    "# correlation matrix\n",
    "df2.corr()"
   ]
  },
  {
   "cell_type": "markdown",
   "metadata": {},
   "source": [
    "Since skin and insu have large numbers of missing values and are both highly correlated\n",
    "with other variables (skin with mass, insu with plas), drop skin and insu from the analysis."
   ]
  },
  {
   "cell_type": "code",
   "execution_count": 7,
   "metadata": {},
   "outputs": [],
   "source": [
    "df2_ml = df2.drop(labels=['insu', 'skin'], axis=1)\n",
    "# df2_ml.head()"
   ]
  },
  {
   "cell_type": "code",
   "execution_count": 60,
   "metadata": {},
   "outputs": [],
   "source": [
    "# df2_ml.info()"
   ]
  },
  {
   "cell_type": "code",
   "execution_count": 8,
   "metadata": {},
   "outputs": [
    {
     "data": {
      "text/plain": [
       "preg         0.00\n",
       "plas         0.65\n",
       "pres         4.56\n",
       "mass         1.43\n",
       "pedi         0.00\n",
       "age          0.00\n",
       "class        0.00\n",
       "age_level    0.00\n",
       "dtype: float64"
      ]
     },
     "execution_count": 8,
     "metadata": {},
     "output_type": "execute_result"
    }
   ],
   "source": [
    "# Percent of null values is now less than 5% in each variable\n",
    "(df2_ml.isnull().sum() / 768 * 100).round(2) # sum of nulls, divided by number of rows, x 100, rounded"
   ]
  },
  {
   "cell_type": "markdown",
   "metadata": {},
   "source": [
    "age and age_level are highly correlated (0.97), so drop one"
   ]
  },
  {
   "cell_type": "code",
   "execution_count": 9,
   "metadata": {},
   "outputs": [],
   "source": [
    "# choose to drop age_level since it contains less information\n",
    "df2_ml = df2_ml.drop(labels=['age_level'], axis=1)\n",
    "# df2_ml.head()"
   ]
  },
  {
   "cell_type": "markdown",
   "metadata": {},
   "source": [
    "<b>Split x attributes and y target, split into train and test sets before impute</b><br>\n",
    "Test train split first and fit only on training data so that we do not leak data into the training process."
   ]
  },
  {
   "cell_type": "code",
   "execution_count": 10,
   "metadata": {},
   "outputs": [
    {
     "data": {
      "text/plain": [
       "array(['preg', 'plas', 'pres', 'mass', 'pedi', 'age'], dtype=object)"
      ]
     },
     "execution_count": 10,
     "metadata": {},
     "output_type": "execute_result"
    }
   ],
   "source": [
    "X = df2_ml.drop(labels=['class'], axis=1)\n",
    "# print (X)\n",
    "y = df2_ml.loc[:,'class'] \n",
    "# print (y)\n",
    "# print (y.unique())\n",
    "X_col_names = X.columns.values\n",
    "X_col_names"
   ]
  },
  {
   "cell_type": "code",
   "execution_count": 11,
   "metadata": {},
   "outputs": [
    {
     "name": "stdout",
     "output_type": "stream",
     "text": [
      "537 537\n",
      "231 231\n"
     ]
    }
   ],
   "source": [
    "X_train, X_test, y_train, y_test = train_test_split(X, y, test_size=0.3, random_state=1,stratify=y)\n",
    "# print(X_train)\n",
    "print(len(X_train),len(y_train))\n",
    "print(len(X_test),len(y_test))"
   ]
  },
  {
   "cell_type": "markdown",
   "metadata": {},
   "source": [
    "<b>Impute X:</b><br>\n",
    "Fit and transform training set<br>\n",
    "Transform test set on scale fitted to training set"
   ]
  },
  {
   "cell_type": "code",
   "execution_count": 112,
   "metadata": {},
   "outputs": [
    {
     "name": "stdout",
     "output_type": "stream",
     "text": [
      "Mean:\n",
      " preg      3.000\n",
      "plas    118.000\n",
      "pres     72.000\n",
      "mass     32.200\n",
      "pedi      0.378\n",
      "age      30.000\n",
      "dtype: float64 \n",
      "\n",
      "Median:\n",
      " preg      3.836127\n",
      "plas    122.108614\n",
      "pres     71.836893\n",
      "mass     32.388136\n",
      "pedi      0.481223\n",
      "age      33.266294\n",
      "dtype: float64\n"
     ]
    }
   ],
   "source": [
    "print (\"Mean:\\n\",X_train.apply(np.nanmedian, axis = 0), \"\\n\") #calculate medians to compare with means\n",
    "print(\"Median:\\n\",X_train.apply(np.nanmean, axis = 0)) # shows means"
   ]
  },
  {
   "cell_type": "markdown",
   "metadata": {},
   "source": [
    "Choose to impute with median instead of mean since the distributions of many variables are skewed."
   ]
  },
  {
   "cell_type": "code",
   "execution_count": 12,
   "metadata": {},
   "outputs": [],
   "source": [
    "imp_x = Imputer(missing_values='NaN', strategy='median', axis=0) \n",
    "X_train = imp_x.fit_transform(X_train) # fit AND transform training set\n",
    "X_test = imp_x.transform(X_test) # transform test set on scale fitted to training set\n",
    "# X_train"
   ]
  },
  {
   "cell_type": "markdown",
   "metadata": {},
   "source": [
    "<H2>Predict Diabetes Class</H2>"
   ]
  },
  {
   "cell_type": "markdown",
   "metadata": {},
   "source": [
    "<H3>RBF kernel models</H3>"
   ]
  },
  {
   "cell_type": "markdown",
   "metadata": {},
   "source": [
    "<b>scv0 - Basic RBF model</b>"
   ]
  },
  {
   "cell_type": "code",
   "execution_count": 13,
   "metadata": {},
   "outputs": [
    {
     "name": "stdout",
     "output_type": "stream",
     "text": [
      "Prediction accuracy:  0.6493506493506493\n",
      "[[150   0]\n",
      " [ 81   0]]\n"
     ]
    }
   ],
   "source": [
    "svc0 = SVC(kernel='rbf', cache_size=1000, probability=True) \n",
    "# print (svc0)\n",
    "clf = svc0.fit(X_train,y_train) # trains the classifier on the training set\n",
    "y_pred0 = svc0.predict(X_test) # tests the classifier on the test set\n",
    "pTot0 = accuracy_score(y_test, y_pred0)\n",
    "print (\"Prediction accuracy: \", pTot0)\n",
    "print (confusion_matrix(y_test, y_pred0))"
   ]
  },
  {
   "cell_type": "code",
   "execution_count": 14,
   "metadata": {},
   "outputs": [
    {
     "name": "stdout",
     "output_type": "stream",
     "text": [
      "             precision    recall  f1-score   support\n",
      "\n",
      "        0.0       0.65      1.00      0.79       150\n",
      "        1.0       0.00      0.00      0.00        81\n",
      "\n",
      "avg / total       0.42      0.65      0.51       231\n",
      "\n"
     ]
    },
    {
     "name": "stderr",
     "output_type": "stream",
     "text": [
      "/Users/Jessica/anaconda3/lib/python3.6/site-packages/sklearn/metrics/classification.py:1135: UndefinedMetricWarning: Precision and F-score are ill-defined and being set to 0.0 in labels with no predicted samples.\n",
      "  'precision', 'predicted', average, warn_for)\n"
     ]
    }
   ],
   "source": [
    "print(classification_report(y_test, y_pred0))"
   ]
  },
  {
   "cell_type": "markdown",
   "metadata": {},
   "source": [
    "This model is clearly wrong since it predicts everything as class 0 (no diabetes). Using an RBF kernel, we get a prediction accuracy of 0.65, with a precision of 0.42 and a recall of 0.65. This first model is innaccurate (Prediction accuracy:  0.65). It has higher recall (0.65) than precision (0.42), indicating the model has a low false negative rate, but that its false positive rate is not as low.  "
   ]
  },
  {
   "cell_type": "code",
   "execution_count": 16,
   "metadata": {},
   "outputs": [
    {
     "name": "stdout",
     "output_type": "stream",
     "text": [
      "AUC using predict_proba 0.6724691358024691\n"
     ]
    }
   ],
   "source": [
    "probas_ = svc0.fit(X_train, y_train).predict_proba(X_test)\n",
    "fpr, tpr, thresholds = roc_curve(y_test, probas_[:, 1])  # use the probs of diabetes, not of no-diabetes\n",
    "roc_auc0 = auc(fpr, tpr)\n",
    "# print (\"thresholds\", thresholds)\n",
    "# print (\"probas_\", probas_)\n",
    "print (\"AUC using predict_proba\", roc_auc0)"
   ]
  },
  {
   "cell_type": "markdown",
   "metadata": {},
   "source": [
    "The AUC (0.67) is low indicating that the model has a low amount of predictive value. There is a 67% chance that model will be able to distinguish between class no diabetes and class diabetes."
   ]
  },
  {
   "cell_type": "code",
   "execution_count": 17,
   "metadata": {},
   "outputs": [],
   "source": [
    "%matplotlib inline"
   ]
  },
  {
   "cell_type": "code",
   "execution_count": 18,
   "metadata": {},
   "outputs": [
    {
     "data": {
      "image/png": "[encoded data removed]",
      "text/plain": [
       "<Figure size 432x288 with 1 Axes>"
      ]
     },
     "metadata": {},
     "output_type": "display_data"
    }
   ],
   "source": [
    "plt.figure()\n",
    "#plt.plot(fpr, tpr, label='ROC curve (area = %0.2f)' % roc_auc, lw=4 ) # plot ROC curve, no marker\n",
    "plt.plot(fpr, tpr, label='ROC curve (area = %0.2f)' % roc_auc0, lw=3, color =\"blue\", marker='s',markerfacecolor=\"red\", markersize=2) \n",
    "plt.plot([0, 1], [0, 1], 'k--') # also plot black dashed line (k=black) from (0,0) to (1,1)\n",
    "\n",
    "# Set x and y ranges, labels, title and legend\n",
    "plt.xlim([-0.005, 1.0])  #x range basically from 0 to 1: start range a bit to left of min x value to see thick line better\n",
    "plt.ylim([0.0, 1.005])   #0 range basically from 0 to 1: extend range a bit above max y value to see thick line better\n",
    "plt.xlabel('False Positive Rate')\n",
    "plt.ylabel('True Positive Rate')\n",
    "plt.title('Receiver operating characteristic for model svc0')\n",
    "plt.legend(loc=\"lower right\")\n",
    "plt.show()"
   ]
  },
  {
   "cell_type": "markdown",
   "metadata": {},
   "source": [
    "<b>Min-Max Scaling</b><br>\n",
    "Next, we min-max scale the data before performing svc"
   ]
  },
  {
   "cell_type": "code",
   "execution_count": 19,
   "metadata": {},
   "outputs": [],
   "source": [
    "min_max_scaler = MinMaxScaler()\n",
    "X_train_minmax = min_max_scaler.fit_transform(X_train) # fit AND transform training set\n",
    "X_test_minmax = min_max_scaler.transform(X_test) # test set transform only, no fit\n",
    "# X_test_minmax "
   ]
  },
  {
   "cell_type": "markdown",
   "metadata": {},
   "source": [
    "<b>scv1 - Basic RBF model with min-max data</b>"
   ]
  },
  {
   "cell_type": "code",
   "execution_count": 20,
   "metadata": {},
   "outputs": [
    {
     "name": "stdout",
     "output_type": "stream",
     "text": [
      "Prediction accuracy:  0.7575757575757576\n"
     ]
    }
   ],
   "source": [
    "svc1 = SVC(kernel='rbf', cache_size=1000, probability=True) \n",
    "# print (svc1) # calls SVC __str__ to view all the attibutes, including the default params you used \n",
    "clf = svc1.fit(X_train_minmax, y_train) # trains the classifier on the training set\n",
    "y_pred_minmax1 = svc1.predict(X_test_minmax) # tests the classifier on the test set\n",
    "pTot1 = accuracy_score(y_test, y_pred_minmax1)\n",
    "print (\"Prediction accuracy: \",pTot1)"
   ]
  },
  {
   "cell_type": "code",
   "execution_count": 21,
   "metadata": {},
   "outputs": [
    {
     "name": "stdout",
     "output_type": "stream",
     "text": [
      "[[135  15]\n",
      " [ 41  40]]\n",
      "             precision    recall  f1-score   support\n",
      "\n",
      "        0.0       0.77      0.90      0.83       150\n",
      "        1.0       0.73      0.49      0.59        81\n",
      "\n",
      "avg / total       0.75      0.76      0.74       231\n",
      "\n"
     ]
    }
   ],
   "source": [
    "print(confusion_matrix(y_test, y_pred_minmax1))\n",
    "print(classification_report(y_test, y_pred_minmax1))"
   ]
  },
  {
   "cell_type": "markdown",
   "metadata": {},
   "source": [
    "When we min-max scale the data before performing svc, the prediction accuracy gets better (0.75), as does the precision (0.75) and recall (0.76). The high precision indicates a low false positive rate, and the high recall indicates a low false negative rate. While precision is similar for class 0 (no diabetes) and 1 (diabetes), recall is much better for class 0 (0.90) than for class 1 (0.49), indicating that the model generates a lot of false negatives when predicting for diabetes."
   ]
  },
  {
   "cell_type": "code",
   "execution_count": 22,
   "metadata": {},
   "outputs": [
    {
     "name": "stdout",
     "output_type": "stream",
     "text": [
      "AUC using predict_proba 0.81440329218107\n"
     ]
    }
   ],
   "source": [
    "probas_ = svc1.fit(X_train_minmax, y_train).predict_proba(X_test_minmax)\n",
    "fpr, tpr, thresholds = roc_curve(y_test, probas_[:, 1])  # use the probs of diabetes, not of no-diabetes\n",
    "roc_auc1 = auc(fpr, tpr)\n",
    "# print (\"thresholds\", thresholds)\n",
    "# print (\"probas_\", probas_)\n",
    "print (\"AUC using predict_proba\", roc_auc1)"
   ]
  },
  {
   "cell_type": "markdown",
   "metadata": {},
   "source": [
    "The AUC (0.81) is much higher than the previous modle (0.67) indicating that the model's predictive value has increased. There is an 81% chance that model will be able to distinguish between class no diabetes and class diabetes."
   ]
  },
  {
   "cell_type": "code",
   "execution_count": 23,
   "metadata": {},
   "outputs": [
    {
     "data": {
      "image/png": "[encoded data removed]",
      "text/plain": [
       "<Figure size 432x288 with 1 Axes>"
      ]
     },
     "metadata": {},
     "output_type": "display_data"
    }
   ],
   "source": [
    "plt.figure()\n",
    "#plt.plot(fpr, tpr, label='ROC curve (area = %0.2f)' % roc_auc, lw=4 ) # plot ROC curve, no marker\n",
    "plt.plot(fpr, tpr, label='ROC curve (area = %0.2f)' % roc_auc1, lw=3, color =\"blue\", marker='s',markerfacecolor=\"red\", markersize=2) \n",
    "plt.plot([0, 1], [0, 1], 'k--') # also plot black dashed line (k=black) from (0,0) to (1,1)\n",
    "\n",
    "# Set x and y ranges, labels, title and legend\n",
    "plt.xlim([-0.005, 1.0])  #x range basically from 0 to 1: start range a bit to left of min x value to see thick line better\n",
    "plt.ylim([0.0, 1.005])   #0 range basically from 0 to 1: extend range a bit above max y value to see thick line better\n",
    "plt.xlabel('False Positive Rate')\n",
    "plt.ylabel('True Positive Rate')\n",
    "plt.title('Receiver operating characteristic for model svc1')\n",
    "plt.legend(loc=\"lower right\")\n",
    "plt.show()"
   ]
  },
  {
   "cell_type": "markdown",
   "metadata": {},
   "source": [
    "<b>scv2 - RBF model with min-max data and balanced class weight</b>"
   ]
  },
  {
   "cell_type": "code",
   "execution_count": 24,
   "metadata": {},
   "outputs": [
    {
     "name": "stdout",
     "output_type": "stream",
     "text": [
      "Prediction accuracy:  0.7186147186147186\n"
     ]
    }
   ],
   "source": [
    "svc2 = SVC(kernel='rbf', class_weight='balanced', cache_size=1000, probability=True)\n",
    "# print (svc2) # calls SVC __str__ to view all the attibutes, including the default params you used \n",
    "clf = svc2.fit(X_train_minmax, y_train) # trains the classifier on the training set\n",
    "y_pred_minmax2 = svc2.predict(X_test_minmax) # tests the classifier on the test set\n",
    "pTot2 = accuracy_score(y_test, y_pred_minmax2)\n",
    "print (\"Prediction accuracy: \",pTot2)"
   ]
  },
  {
   "cell_type": "code",
   "execution_count": 25,
   "metadata": {},
   "outputs": [
    {
     "name": "stdout",
     "output_type": "stream",
     "text": [
      "[[114  36]\n",
      " [ 29  52]]\n",
      "             precision    recall  f1-score   support\n",
      "\n",
      "        0.0       0.80      0.76      0.78       150\n",
      "        1.0       0.59      0.64      0.62        81\n",
      "\n",
      "avg / total       0.72      0.72      0.72       231\n",
      "\n"
     ]
    }
   ],
   "source": [
    "print(confusion_matrix(y_test, y_pred_minmax2))\n",
    "print(classification_report(y_test, y_pred_minmax2))"
   ]
  },
  {
   "cell_type": "code",
   "execution_count": 26,
   "metadata": {},
   "outputs": [
    {
     "name": "stdout",
     "output_type": "stream",
     "text": [
      "AUC using predict_proba 0.8099588477366255\n"
     ]
    }
   ],
   "source": [
    "probas_ = svc2.fit(X_train_minmax, y_train).predict_proba(X_test_minmax)\n",
    "fpr, tpr, thresholds = roc_curve(y_test, probas_[:, 1])  # use the probs of diabetes, not of no-diabetes\n",
    "roc_auc2 = auc(fpr, tpr)\n",
    "# print (\"thresholds\", thresholds)\n",
    "# print (\"probas_\", probas_)\n",
    "print (\"AUC using predict_proba\", roc_auc2)"
   ]
  },
  {
   "cell_type": "markdown",
   "metadata": {},
   "source": [
    "When we balance the class weights the prediction accuracy decreases (0.72), as does the precision (0.72) and recall (0.72). The AUC also decreases slightly (0.81) indicated that the model's predictive value has decreased. Interestingly, the precision has decreased and recall has increased for class 1, indicating that this model generates more false positives and less false negatives for diabetes. "
   ]
  },
  {
   "cell_type": "code",
   "execution_count": 27,
   "metadata": {},
   "outputs": [
    {
     "data": {
      "image/png": "[encoded data removed]",
      "text/plain": [
       "<Figure size 432x288 with 1 Axes>"
      ]
     },
     "metadata": {},
     "output_type": "display_data"
    }
   ],
   "source": [
    "plt.figure()\n",
    "#plt.plot(fpr, tpr, label='ROC curve (area = %0.2f)' % roc_auc, lw=4 ) # plot ROC curve, no marker\n",
    "plt.plot(fpr, tpr, label='ROC curve (area = %0.2f)' % roc_auc2, lw=3, color =\"blue\", marker='s',markerfacecolor=\"red\", markersize=2) \n",
    "plt.plot([0, 1], [0, 1], 'k--') # also plot black dashed line (k=black) from (0,0) to (1,1)\n",
    "\n",
    "# Set x and y ranges, labels, title and legend\n",
    "plt.xlim([-0.005, 1.0])  #x range basically from 0 to 1: start range a bit to left of min x value to see thick line better\n",
    "plt.ylim([0.0, 1.005])   #0 range basically from 0 to 1: extend range a bit above max y value to see thick line better\n",
    "plt.xlabel('False Positive Rate')\n",
    "plt.ylabel('True Positive Rate')\n",
    "plt.title('Receiver operating characteristic for Model svc2')\n",
    "plt.legend(loc=\"lower right\")\n",
    "plt.show()"
   ]
  },
  {
   "cell_type": "markdown",
   "metadata": {},
   "source": [
    "Now that we know the our best rbf model came from non-balanced class-weight, we tune the parameters for c and gamma. "
   ]
  },
  {
   "cell_type": "markdown",
   "metadata": {},
   "source": [
    "<H3>Parameter tuning - C and gamma</H3>"
   ]
  },
  {
   "cell_type": "code",
   "execution_count": 28,
   "metadata": {},
   "outputs": [
    {
     "name": "stdout",
     "output_type": "stream",
     "text": [
      "[0.01, 0.1, 1, 'auto', 10, 100]\n"
     ]
    },
    {
     "data": {
      "text/plain": [
       "{'gamma': [0.01, 0.1, 1, 'auto', 10, 100],\n",
       " 'C': array([1.e-02, 1.e-01, 1.e+00, 1.e+01, 1.e+02, 1.e+03])}"
      ]
     },
     "execution_count": 28,
     "metadata": {},
     "output_type": "execute_result"
    }
   ],
   "source": [
    "C_range = 10.0 ** np.arange(-2, 4)\n",
    "#gamma_range = 10.0 ** np.arange(-3, 3)\n",
    "gamma_range = [.01, .1, 1, 'auto', 10, 100]\n",
    "print (gamma_range)\n",
    "param_grid = dict(gamma=gamma_range, C=C_range)\n",
    "param_grid"
   ]
  },
  {
   "cell_type": "code",
   "execution_count": 29,
   "metadata": {},
   "outputs": [
    {
     "name": "stdout",
     "output_type": "stream",
     "text": [
      "The best C and gamma for rbf is: 100.00000, 0.10000 \n"
     ]
    },
    {
     "data": {
      "text/plain": [
       "SVC(C=100.0, cache_size=1000, class_weight=None, coef0=0.0,\n",
       "  decision_function_shape='ovr', degree=3, gamma=0.1, kernel='rbf',\n",
       "  max_iter=-1, probability=True, random_state=None, shrinking=True,\n",
       "  tol=0.001, verbose=False)"
      ]
     },
     "execution_count": 29,
     "metadata": {},
     "output_type": "execute_result"
    }
   ],
   "source": [
    "# Default is 3-fold cross validation\n",
    "grid = GridSearchCV(SVC(kernel='rbf',cache_size=1000, probability=True), param_grid=param_grid) \n",
    "grid.fit(X_train_minmax, y_train)# run the grid search on the training data only\n",
    "best_C = grid.best_estimator_.C\n",
    "best_gamma = grid.best_estimator_.gamma\n",
    "print (\"The best C and gamma for rbf is: %.5f, %.5f \" % (best_C, best_gamma))\n",
    "grid.best_estimator_"
   ]
  },
  {
   "cell_type": "code",
   "execution_count": 30,
   "metadata": {},
   "outputs": [
    {
     "name": "stdout",
     "output_type": "stream",
     "text": [
      "Prediction accuracy:  0.7489177489177489\n",
      "[[133  17]\n",
      " [ 41  40]]\n",
      "             precision    recall  f1-score   support\n",
      "\n",
      "        0.0       0.76      0.89      0.82       150\n",
      "        1.0       0.70      0.49      0.58        81\n",
      "\n",
      "avg / total       0.74      0.75      0.74       231\n",
      "\n"
     ]
    }
   ],
   "source": [
    "best_predict_minmax = grid.best_estimator_.predict(X_test_minmax)\n",
    "pTot_best = accuracy_score(y_test, best_predict_minmax)\n",
    "print(\"Prediction accuracy: \",pTot_best)\n",
    "print(confusion_matrix(y_test, best_predict_minmax))\n",
    "print(classification_report(y_test, best_predict_minmax))"
   ]
  },
  {
   "cell_type": "markdown",
   "metadata": {},
   "source": [
    "The prediction accuracy (0.75) increases when we perform a 3-fold cross validation to choose the best C and gamma."
   ]
  },
  {
   "cell_type": "markdown",
   "metadata": {},
   "source": [
    "<b>scv3 - RBF model with min-max data and best C and gamma</b>"
   ]
  },
  {
   "cell_type": "code",
   "execution_count": 31,
   "metadata": {},
   "outputs": [
    {
     "name": "stdout",
     "output_type": "stream",
     "text": [
      "Prediction accuracy:  0.7489177489177489\n"
     ]
    }
   ],
   "source": [
    "svc3 = SVC(C=100, gamma=0.1, kernel='rbf', cache_size=1000, probability=True) \n",
    "clf = svc3.fit(X_train_minmax, y_train) # trains the classifier on the training set\n",
    "y_pred_minmax3 = svc3.predict(X_test_minmax) # tests the classifier on the test set\n",
    "pTot3 = accuracy_score(y_test, y_pred_minmax3)\n",
    "print (\"Prediction accuracy: \",pTot3)"
   ]
  },
  {
   "cell_type": "code",
   "execution_count": 32,
   "metadata": {},
   "outputs": [
    {
     "name": "stdout",
     "output_type": "stream",
     "text": [
      "[[133  17]\n",
      " [ 41  40]]\n",
      "             precision    recall  f1-score   support\n",
      "\n",
      "        0.0       0.76      0.89      0.82       150\n",
      "        1.0       0.70      0.49      0.58        81\n",
      "\n",
      "avg / total       0.74      0.75      0.74       231\n",
      "\n"
     ]
    }
   ],
   "source": [
    "print(confusion_matrix(y_test, y_pred_minmax3))\n",
    "print(classification_report(y_test, y_pred_minmax3))"
   ]
  },
  {
   "cell_type": "code",
   "execution_count": 41,
   "metadata": {},
   "outputs": [
    {
     "name": "stdout",
     "output_type": "stream",
     "text": [
      "AUC using predict_proba 0.822798353909465\n"
     ]
    }
   ],
   "source": [
    "probas_ = svc3.fit(X_train_minmax, y_train).predict_proba(X_test_minmax)\n",
    "fpr, tpr, thresholds = roc_curve(y_test, probas_[:, 1])  # use the probs of (diabetes), not of no diabetes\n",
    "roc_auc3 = auc(fpr, tpr)\n",
    "print (\"AUC using predict_proba\", roc_auc3)\n",
    "# probas_"
   ]
  },
  {
   "cell_type": "markdown",
   "metadata": {},
   "source": [
    "When we use the best C and gamma, the prediction accuracy increases (0.75), as does the precision (0.74) and recall (0.75). The AUC also increases slightly (0.82) indicating that the model's predictive value has increased. There is an 82% chance that model will be able to distinguish between class no diabetes and class diabetes.<br><br>\n",
    "This model is the best rbf kernel model tested here as it has the most predictive value (AUC 0.82) and high prediction accuracy (0.75)."
   ]
  },
  {
   "cell_type": "code",
   "execution_count": 42,
   "metadata": {},
   "outputs": [
    {
     "data": {
      "image/png": "[encoded data removed]",
      "text/plain": [
       "<Figure size 432x288 with 1 Axes>"
      ]
     },
     "metadata": {},
     "output_type": "display_data"
    }
   ],
   "source": [
    "plt.figure()\n",
    "#plt.plot(fpr, tpr, label='ROC curve (area = %0.2f)' % roc_auc, lw=4 ) # plot ROC curve, no marker\n",
    "plt.plot(fpr, tpr, label='ROC curve (area = %0.2f)' % roc_auc3, lw=3, color =\"#0000ff\", marker='s',markerfacecolor=\"red\", markersize=2) \n",
    "plt.plot([0, 1], [0, 1], 'k--') # also plot black dashed line (k=black) from (0,0) to (1,1)\n",
    "\n",
    "# Set x and y ranges, labels, title and legend\n",
    "plt.xlim([-0.005, 1.0])  #x range basically from 0 to 1: start range a bit to left of min x value to see thick line better\n",
    "plt.ylim([0.0, 1.005])   #0 range basically from 0 to 1: extend range a bit above max y value to see thick line better\n",
    "plt.xlabel('False Positive Rate')\n",
    "plt.ylabel('True Positive Rate')\n",
    "plt.title('Receiver operating characteristic for model svc3')\n",
    "plt.legend(loc=\"lower right\")\n",
    "plt.show()"
   ]
  },
  {
   "cell_type": "markdown",
   "metadata": {},
   "source": [
    "<H3>poly kernel models</H3>"
   ]
  },
  {
   "cell_type": "markdown",
   "metadata": {},
   "source": [
    "<b>scv4 - Poly model with min-max data</b>"
   ]
  },
  {
   "cell_type": "code",
   "execution_count": 43,
   "metadata": {},
   "outputs": [
    {
     "name": "stdout",
     "output_type": "stream",
     "text": [
      "SVC(C=1.0, cache_size=1000, class_weight=None, coef0=0.0,\n",
      "  decision_function_shape='ovr', degree=3, gamma='auto', kernel='poly',\n",
      "  max_iter=-1, probability=True, random_state=None, shrinking=True,\n",
      "  tol=0.001, verbose=False)\n",
      "Prediction accuracy:  0.658008658008658\n"
     ]
    }
   ],
   "source": [
    "svc4 = SVC(kernel='poly', cache_size=1000, probability=True) \n",
    "print (svc4) # calls SVC __str__ to view all the attibutes, including the default params you used \n",
    "clf = svc4.fit(X_train_minmax, y_train) # trains the classifier on the training set\n",
    "y_pred_minmax4 = svc4.predict(X_test_minmax) # tests the classifier on the test set\n",
    "pTot4 = accuracy_score(y_test, y_pred_minmax4)\n",
    "print (\"Prediction accuracy: \",pTot4) # Prediction accuracy:  0.658008658008658"
   ]
  },
  {
   "cell_type": "code",
   "execution_count": 44,
   "metadata": {},
   "outputs": [
    {
     "name": "stdout",
     "output_type": "stream",
     "text": [
      "[[150   0]\n",
      " [ 79   2]]\n",
      "             precision    recall  f1-score   support\n",
      "\n",
      "        0.0       0.66      1.00      0.79       150\n",
      "        1.0       1.00      0.02      0.05        81\n",
      "\n",
      "avg / total       0.78      0.66      0.53       231\n",
      "\n"
     ]
    }
   ],
   "source": [
    "print(confusion_matrix(y_test, y_pred_minmax4))\n",
    "print(classification_report(y_test, y_pred_minmax4))"
   ]
  },
  {
   "cell_type": "code",
   "execution_count": 59,
   "metadata": {},
   "outputs": [
    {
     "name": "stdout",
     "output_type": "stream",
     "text": [
      "AUC using predict_proba 0.7967078189300412\n"
     ]
    }
   ],
   "source": [
    "probas_ = svc4.fit(X_train_minmax, y_train).predict_proba(X_test_minmax)\n",
    "fpr, tpr, thresholds = roc_curve(y_test, probas_[:, 1])  # use the probs of (diabetes), not of no diabetes\n",
    "roc_auc4 = auc(fpr, tpr)\n",
    "print (\"AUC using predict_proba\", roc_auc4)\n",
    "# probas_"
   ]
  },
  {
   "cell_type": "markdown",
   "metadata": {},
   "source": [
    "When we use a poly kernel, the prediction accuracy decreases (0.66). The precision increases (0.78) while recall decreases (0.66). This indicates that the poly model is generating less false positives, but more false negatives. This model seems to be classifying too many observations as 0 (no diabetes). The AUC also decreases (0.80) indicating that the model's predictive value has decreased. There is an 80% chance that model will be able to distinguish between class no diabetes and class diabetes."
   ]
  },
  {
   "cell_type": "code",
   "execution_count": 60,
   "metadata": {},
   "outputs": [
    {
     "data": {
      "image/png": "[encoded data removed]",
      "text/plain": [
       "<Figure size 432x288 with 1 Axes>"
      ]
     },
     "metadata": {},
     "output_type": "display_data"
    }
   ],
   "source": [
    "plt.figure()\n",
    "#plt.plot(fpr, tpr, label='ROC curve (area = %0.2f)' % roc_auc, lw=4 ) # plot ROC curve, no marker\n",
    "plt.plot(fpr, tpr, label='ROC curve (area = %0.2f)' % roc_auc4, lw=3, color =\"#0000ff\", marker='s',markerfacecolor=\"red\", markersize=2) \n",
    "plt.plot([0, 1], [0, 1], 'k--') # also plot black dashed line (k=black) from (0,0) to (1,1)\n",
    "\n",
    "# Set x and y ranges, labels, title and legend\n",
    "plt.xlim([-0.005, 1.0])  #x range basically from 0 to 1: start range a bit to left of min x value to see thick line better\n",
    "plt.ylim([0.0, 1.005])   #0 range basically from 0 to 1: extend range a bit above max y value to see thick line better\n",
    "plt.xlabel('False Positive Rate')\n",
    "plt.ylabel('True Positive Rate')\n",
    "plt.title('Receiver operating characteristic for model svc4')\n",
    "plt.legend(loc=\"lower right\")\n",
    "plt.show()"
   ]
  },
  {
   "cell_type": "markdown",
   "metadata": {},
   "source": [
    "<b>scv5 - Poly model with min-max data and balanced class weight</b>"
   ]
  },
  {
   "cell_type": "code",
   "execution_count": 48,
   "metadata": {},
   "outputs": [
    {
     "name": "stdout",
     "output_type": "stream",
     "text": [
      "Prediction accuracy:  0.7316017316017316\n"
     ]
    }
   ],
   "source": [
    "svc5 = SVC(kernel='poly', class_weight='balanced', cache_size=1000, probability=True) \n",
    "# print (svc5) # calls SVC __str__ to view all the attibutes, including the default params you used \n",
    "clf = svc5.fit(X_train_minmax, y_train) # trains the classifier on the training set\n",
    "y_pred_minmax5 = svc5.predict(X_test_minmax) # tests the classifier on the test set\n",
    "pTot5 = accuracy_score(y_test, y_pred_minmax5)\n",
    "print (\"Prediction accuracy: \",pTot5) # Prediction accuracy:  0.7316017316017316"
   ]
  },
  {
   "cell_type": "code",
   "execution_count": 49,
   "metadata": {},
   "outputs": [
    {
     "name": "stdout",
     "output_type": "stream",
     "text": [
      "[[141   9]\n",
      " [ 53  28]]\n",
      "             precision    recall  f1-score   support\n",
      "\n",
      "        0.0       0.73      0.94      0.82       150\n",
      "        1.0       0.76      0.35      0.47        81\n",
      "\n",
      "avg / total       0.74      0.73      0.70       231\n",
      "\n"
     ]
    }
   ],
   "source": [
    "print(confusion_matrix(y_test, y_pred_minmax5))\n",
    "print(classification_report(y_test, y_pred_minmax5))"
   ]
  },
  {
   "cell_type": "code",
   "execution_count": 61,
   "metadata": {},
   "outputs": [
    {
     "name": "stdout",
     "output_type": "stream",
     "text": [
      "AUC using predict_proba 0.7817283950617283\n"
     ]
    }
   ],
   "source": [
    "probas_ = svc5.fit(X_train_minmax, y_train).predict_proba(X_test_minmax)\n",
    "fpr, tpr, thresholds = roc_curve(y_test, probas_[:, 1])  # use the probs of (diabetes), not of no diabetes\n",
    "roc_auc5 = auc(fpr, tpr)\n",
    "print (\"AUC using predict_proba\", roc_auc5)\n",
    "# probas_"
   ]
  },
  {
   "cell_type": "markdown",
   "metadata": {},
   "source": [
    "When we use a poly kernel with balanced class weights the prediction accuracy increases (0.73). The precision decreases (0.74), but the recall increases (0.73). This model is generating more false positives than the unbalanced poly model, but less false negatives. The AUC decreases to 0.78, but overall this model is better since the previous model almost did not predict any observations to have diabetes, while this model makes more balanced predictions."
   ]
  },
  {
   "cell_type": "code",
   "execution_count": 62,
   "metadata": {},
   "outputs": [
    {
     "data": {
      "image/png": "[encoded data removed]",
      "text/plain": [
       "<Figure size 432x288 with 1 Axes>"
      ]
     },
     "metadata": {},
     "output_type": "display_data"
    }
   ],
   "source": [
    "plt.figure()\n",
    "#plt.plot(fpr, tpr, label='ROC curve (area = %0.2f)' % roc_auc, lw=4 ) # plot ROC curve, no marker\n",
    "plt.plot(fpr, tpr, label='ROC curve (area = %0.2f)' % roc_auc5, lw=3, color =\"#0000ff\", marker='s',markerfacecolor=\"red\", markersize=2) \n",
    "plt.plot([0, 1], [0, 1], 'k--') # also plot black dashed line (k=black) from (0,0) to (1,1)\n",
    "\n",
    "# Set x and y ranges, labels, title and legend\n",
    "plt.xlim([-0.005, 1.0])  #x range basically from 0 to 1: start range a bit to left of min x value to see thick line better\n",
    "plt.ylim([0.0, 1.005])   #0 range basically from 0 to 1: extend range a bit above max y value to see thick line better\n",
    "plt.xlabel('False Positive Rate')\n",
    "plt.ylabel('True Positive Rate')\n",
    "plt.title('Receiver operating characteristic for model svc5')\n",
    "plt.legend(loc=\"lower right\")\n",
    "plt.show()"
   ]
  },
  {
   "cell_type": "markdown",
   "metadata": {},
   "source": [
    "<H3>Parameter tuning - C and degree</H3>"
   ]
  },
  {
   "cell_type": "code",
   "execution_count": 65,
   "metadata": {},
   "outputs": [
    {
     "name": "stdout",
     "output_type": "stream",
     "text": [
      "[1, 2, 3, 4, 5, 6]\n"
     ]
    },
    {
     "data": {
      "text/plain": [
       "{'degree': [1, 2, 3, 4, 5, 6],\n",
       " 'C': array([1.e-02, 1.e-01, 1.e+00, 1.e+01, 1.e+02, 1.e+03])}"
      ]
     },
     "execution_count": 65,
     "metadata": {},
     "output_type": "execute_result"
    }
   ],
   "source": [
    "C_range = 10.0 ** np.arange(-2, 4)\n",
    "degree_range = [1, 2, 3, 4, 5, 6]\n",
    "print (degree_range)\n",
    "param_grid = dict(degree=degree_range, C=C_range)\n",
    "param_grid"
   ]
  },
  {
   "cell_type": "code",
   "execution_count": 66,
   "metadata": {},
   "outputs": [
    {
     "name": "stdout",
     "output_type": "stream",
     "text": [
      "The best C and degree for poly is: 100.00000, 3.00000 \n"
     ]
    },
    {
     "data": {
      "text/plain": [
       "SVC(C=100.0, cache_size=1000, class_weight='balanced', coef0=0.0,\n",
       "  decision_function_shape='ovr', degree=3, gamma='auto', kernel='poly',\n",
       "  max_iter=-1, probability=False, random_state=None, shrinking=True,\n",
       "  tol=0.001, verbose=False)"
      ]
     },
     "execution_count": 66,
     "metadata": {},
     "output_type": "execute_result"
    }
   ],
   "source": [
    "# Default is 3-fold cross validation\n",
    "grid = GridSearchCV(SVC(kernel='poly', class_weight='balanced', cache_size=1000, probability=False), param_grid=param_grid) \n",
    "grid.fit(X_train_minmax, y_train)# run the grid search on the training data only\n",
    "best_C = grid.best_estimator_.C\n",
    "best_degree = grid.best_estimator_.degree\n",
    "print (\"The best C and degree for poly is: %.5f, %.5f \" % (best_C, best_degree))\n",
    "grid.best_estimator_"
   ]
  },
  {
   "cell_type": "code",
   "execution_count": 67,
   "metadata": {},
   "outputs": [
    {
     "name": "stdout",
     "output_type": "stream",
     "text": [
      "Prediction accuracy:  0.7402597402597403\n",
      "[[124  26]\n",
      " [ 34  47]]\n",
      "             precision    recall  f1-score   support\n",
      "\n",
      "        0.0       0.78      0.83      0.81       150\n",
      "        1.0       0.64      0.58      0.61        81\n",
      "\n",
      "avg / total       0.74      0.74      0.74       231\n",
      "\n"
     ]
    }
   ],
   "source": [
    "best_predict_minmax = grid.best_estimator_.predict(X_test_minmax)\n",
    "pTot_best = accuracy_score(y_test, best_predict_minmax)\n",
    "print(\"Prediction accuracy: \",pTot_best)\n",
    "print(confusion_matrix(y_test, best_predict_minmax))\n",
    "print(classification_report(y_test, best_predict_minmax))"
   ]
  },
  {
   "cell_type": "markdown",
   "metadata": {},
   "source": [
    "<b>scv6 - Poly model with min-max data and best C and degree</b>"
   ]
  },
  {
   "cell_type": "code",
   "execution_count": 68,
   "metadata": {},
   "outputs": [
    {
     "name": "stdout",
     "output_type": "stream",
     "text": [
      "Prediction accuracy:  0.7402597402597403\n"
     ]
    }
   ],
   "source": [
    "svc6 = SVC(C=100, degree=3, kernel='poly', class_weight='balanced', cache_size=1000, probability=True) \n",
    "clf = svc6.fit(X_train_minmax, y_train) # trains the classifier on the training set\n",
    "y_pred_minmax6 = svc6.predict(X_test_minmax) # tests the classifier on the test set\n",
    "pTot6 = accuracy_score(y_test, y_pred_minmax6)\n",
    "print (\"Prediction accuracy: \",pTot6)"
   ]
  },
  {
   "cell_type": "code",
   "execution_count": 69,
   "metadata": {},
   "outputs": [
    {
     "name": "stdout",
     "output_type": "stream",
     "text": [
      "[[124  26]\n",
      " [ 34  47]]\n",
      "             precision    recall  f1-score   support\n",
      "\n",
      "        0.0       0.78      0.83      0.81       150\n",
      "        1.0       0.64      0.58      0.61        81\n",
      "\n",
      "avg / total       0.74      0.74      0.74       231\n",
      "\n"
     ]
    }
   ],
   "source": [
    "print(confusion_matrix(y_test, y_pred_minmax6))\n",
    "print(classification_report(y_test, y_pred_minmax6))"
   ]
  },
  {
   "cell_type": "code",
   "execution_count": 70,
   "metadata": {},
   "outputs": [
    {
     "name": "stdout",
     "output_type": "stream",
     "text": [
      "AUC using predict_proba 0.8241152263374486\n"
     ]
    }
   ],
   "source": [
    "probas_ = svc6.fit(X_train_minmax, y_train).predict_proba(X_test_minmax)\n",
    "fpr, tpr, thresholds = roc_curve(y_test, probas_[:, 1])  # use the probs of (diabetes), not of no diabetes\n",
    "roc_auc6 = auc(fpr, tpr)\n",
    "print (\"AUC using predict_proba\", roc_auc6)\n",
    "# probas_"
   ]
  },
  {
   "cell_type": "markdown",
   "metadata": {},
   "source": [
    "When we use a poly kernel with balanced class weights and the best C and degree, the prediction accuracy increases (0.74). The precision stays the same (0.74), and the recall increases (0.74). This model is generating less false negatives than the poly model without tuned parameters. The recall is also more balanced between the diabetes classes, with a recall of 0.83 for class 0 (no diabetes) and 0.58 for class 1 (diabetes) (vs recall 0: 0.94, 1: 0.35 in svc5). The AUC increases to 0.82, indicating that this model's predictive value has increased overall.<br><br>This model is the best poly kernel model tested here as it has the most predictive value (AUC 0.82), high prediction accuracy (0.74) and a balanced recall between diabetes classes."
   ]
  },
  {
   "cell_type": "code",
   "execution_count": 71,
   "metadata": {},
   "outputs": [
    {
     "data": {
      "image/png": "[encoded data removed]",
      "text/plain": [
       "<Figure size 432x288 with 1 Axes>"
      ]
     },
     "metadata": {},
     "output_type": "display_data"
    }
   ],
   "source": [
    "plt.figure()\n",
    "#plt.plot(fpr, tpr, label='ROC curve (area = %0.2f)' % roc_auc, lw=4 ) # plot ROC curve, no marker\n",
    "plt.plot(fpr, tpr, label='ROC curve (area = %0.2f)' % roc_auc6, lw=3, color =\"#0000ff\", marker='s',markerfacecolor=\"red\", markersize=2) \n",
    "plt.plot([0, 1], [0, 1], 'k--') # also plot black dashed line (k=black) from (0,0) to (1,1)\n",
    "\n",
    "# Set x and y ranges, labels, title and legend\n",
    "plt.xlim([-0.005, 1.0])  #x range basically from 0 to 1: start range a bit to left of min x value to see thick line better\n",
    "plt.ylim([0.0, 1.005])   #0 range basically from 0 to 1: extend range a bit above max y value to see thick line better\n",
    "plt.xlabel('False Positive Rate')\n",
    "plt.ylabel('True Positive Rate')\n",
    "plt.title('Receiver operating characteristic for model svc6')\n",
    "plt.legend(loc=\"lower right\")\n",
    "plt.show()"
   ]
  },
  {
   "cell_type": "markdown",
   "metadata": {},
   "source": [
    "<H2>Save the Best Model</H2>"
   ]
  },
  {
   "cell_type": "markdown",
   "metadata": {},
   "source": [
    "From these calculations, the best model is the rbf kernel model svc3 with a prediction accuracy of 0.75 and an AUC of 0.82. While svc3's AUC is the same as svc6's (0.82), svc3 has a higher prediction accuracy compared to svc6 (0.74).<br>``` python svc3 = SVC(C=100, gamma=0.1, kernel='rbf', cache_size=1000, probability=True)```"
   ]
  },
  {
   "cell_type": "code",
   "execution_count": 58,
   "metadata": {},
   "outputs": [],
   "source": [
    "import pickle\n",
    "# pickle and save the trained model\n",
    "outfile= open('model_best.pkl','wb')\n",
    "pickle.dump(svc3, outfile)\n",
    "outfile.close()"
   ]
  },
  {
   "cell_type": "code",
   "execution_count": null,
   "metadata": {},
   "outputs": [],
   "source": []
  }
 ],
 "metadata": {
  "kernelspec": {
   "display_name": "Python 3",
   "language": "python",
   "name": "python3"
  },
  "language_info": {
   "codemirror_mode": {
    "name": "ipython",
    "version": 3
   },
   "file_extension": ".py",
   "mimetype": "text/x-python",
   "name": "python",
   "nbconvert_exporter": "python",
   "pygments_lexer": "ipython3",
   "version": "3.6.8"
  }
 },
 "nbformat": 4,
 "nbformat_minor": 2
}
